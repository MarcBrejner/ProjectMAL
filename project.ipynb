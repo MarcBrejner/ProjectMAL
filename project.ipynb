{
 "cells": [
  {
   "cell_type": "code",
   "execution_count": 4,
   "metadata": {},
   "outputs": [],
   "source": [
    "import urllib.request\n",
    "import pickle, csv, json, os, re\n",
    "import networkx as nx\n",
    "import matplotlib.pyplot as plt\n",
    "import numpy as np\n",
    "from statistics import mode, mean, median\n",
    "from tqdm import tqdm\n",
    "import requests\n",
    "\n",
    "plt.rcParams[\"figure.figsize\"] = (20,10)"
   ]
  },
  {
   "cell_type": "markdown",
   "metadata": {},
   "source": [
    "# Data"
   ]
  },
  {
   "cell_type": "markdown",
   "metadata": {},
   "source": [
    "We load in our stored local animes and mangas"
   ]
  },
  {
   "cell_type": "code",
   "execution_count": 3,
   "metadata": {},
   "outputs": [],
   "source": [
    "import os\n",
    "anime_dir_path = \"data/animes/\"\n",
    "\n",
    "anime_dir = os.listdir(anime_dir_path)\n",
    "all_animes = []\n",
    "for file in anime_dir:\n",
    "    with open(os.path.join(anime_dir_path, file),'r') as f:\n",
    "        j = json.loads(f.read())\n",
    "    all_animes.append(j)"
   ]
  },
  {
   "cell_type": "code",
   "execution_count": 81,
   "metadata": {},
   "outputs": [
    {
     "name": "stdout",
     "output_type": "stream",
     "text": [
      "8319\n",
      "4320\n",
      "4301\n"
     ]
    }
   ],
   "source": [
    "all_anime_tv = [x for x in all_animes if x['type'] == 'TV']\n",
    "print(len(all_anime_tv))\n",
    "all_anime_tv = [x for x in all_anime_tv if x['score']]\n",
    "print(len(all_anime_tv))\n",
    "all_anime_tv = [x for x in all_anime_tv if x['synopsis']]\n",
    "print(len(all_anime_tv))"
   ]
  }
 ],
 "metadata": {
  "kernelspec": {
   "display_name": "Python 3.9.2 64-bit",
   "language": "python",
   "name": "python3"
  },
  "language_info": {
   "codemirror_mode": {
    "name": "ipython",
    "version": 3
   },
   "file_extension": ".py",
   "mimetype": "text/x-python",
   "name": "python",
   "nbconvert_exporter": "python",
   "pygments_lexer": "ipython3",
   "version": "3.9.2"
  },
  "vscode": {
   "interpreter": {
    "hash": "81794d4967e6c3204c66dcd87b604927b115b27c00565d3d43f05ba2f3a2cb0d"
   }
  }
 },
 "nbformat": 4,
 "nbformat_minor": 2
}
