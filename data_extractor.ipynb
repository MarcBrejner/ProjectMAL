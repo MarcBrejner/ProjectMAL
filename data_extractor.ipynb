{
 "cells": [
  {
   "cell_type": "code",
   "execution_count": null,
   "metadata": {},
   "outputs": [],
   "source": [
    "import urllib.request\n",
    "import pickle, csv, json, os, re\n",
    "import numpy as np\n",
    "from asyncore import read\n",
    "\n",
    "from time import sleep\n",
    "from tqdm import tqdm"
   ]
  },
  {
   "cell_type": "markdown",
   "metadata": {},
   "source": [
    "We define the functions used to gather data from the jikan APi https://api.jikan.moe"
   ]
  },
  {
   "cell_type": "code",
   "execution_count": null,
   "metadata": {},
   "outputs": [],
   "source": [
    "def get_num_pages(link):\n",
    "    r = urllib.request.urlopen(link)\n",
    "    text = r.read().decode('utf-8')\n",
    "    js = json.loads(text)\n",
    "    last_page = js['pagination']['last_visible_page']\n",
    "    return last_page\n",
    "\n",
    "\n",
    "def get_all_pages(page):\n",
    "    pages = []\n",
    "    max_pages = get_num_pages('https://api.jikan.moe/v4/{}?page={:.2f}&sfw=true'.format(page,0))\n",
    "    for i in tqdm(range(max_pages)):\n",
    "        r = urllib.request.urlopen('https://api.jikan.moe/v4/{}?page={:.2f}&sfw=true'.format(page,i))\n",
    "        text = r.read().decode('utf-8')\n",
    "        js = json.loads(text)\n",
    "        keys = js['data']\n",
    "        for k in keys:\n",
    "            pages.append(k)\n",
    "        sleep(0.75) #The API only allows 3 requests per second, so we have to make sure we don't make more than three requests/sec\n",
    "    return pages"
   ]
  },
  {
   "cell_type": "markdown",
   "metadata": {},
   "source": [
    "Now, we extract all anime pages, and save them as text files locally, so they can be re-used"
   ]
  },
  {
   "cell_type": "code",
   "execution_count": null,
   "metadata": {},
   "outputs": [],
   "source": [
    "all_animes = get_all_pages('anime')\n",
    "\n",
    "for anime in all_animes:\n",
    "    file_name = \"{}.txt\".format(anime['mal_id'])\n",
    "    write_file = open(\"data/animes/\"+file_name, \"w\")\n",
    "    write_file.write(json.dumps(anime))\n",
    "    write_file.close()"
   ]
  },
  {
   "cell_type": "markdown",
   "metadata": {},
   "source": [
    "Similarly, we extract all manga pages, and save them locally"
   ]
  },
  {
   "cell_type": "code",
   "execution_count": null,
   "metadata": {},
   "outputs": [],
   "source": [
    "all_mangas = get_all_pages('manga')\n",
    "\n",
    "for manga in all_mangas:\n",
    "    file_name = \"{}.txt\".format(manga['mal_id'])\n",
    "    write_file = open(\"data/mangas/\"+file_name, \"w\")\n",
    "    write_file.write(json.dumps(manga))\n",
    "    write_file.close()"
   ]
  }
 ],
 "metadata": {
  "kernelspec": {
   "display_name": "Python 3.9.2 64-bit",
   "language": "python",
   "name": "python3"
  },
  "language_info": {
   "name": "python",
   "version": "3.9.2"
  },
  "orig_nbformat": 4,
  "vscode": {
   "interpreter": {
    "hash": "81794d4967e6c3204c66dcd87b604927b115b27c00565d3d43f05ba2f3a2cb0d"
   }
  }
 },
 "nbformat": 4,
 "nbformat_minor": 2
}
