{
 "cells": [
  {
   "cell_type": "code",
   "execution_count": 2,
   "metadata": {},
   "outputs": [],
   "source": [
    "import urllib.request\n",
    "import pickle, csv, json, os, re\n",
    "import numpy as np\n",
    "from asyncore import read\n",
    "import networkx as nx\n",
    "\n",
    "from time import sleep\n",
    "from tqdm import tqdm"
   ]
  },
  {
   "cell_type": "markdown",
   "metadata": {},
   "source": [
    "We define the functions used to gather data from the jikan APi https://api.jikan.moe"
   ]
  },
  {
   "cell_type": "code",
   "execution_count": 3,
   "metadata": {},
   "outputs": [],
   "source": [
    "def get_num_pages(link):\n",
    "    r = urllib.request.urlopen(link)\n",
    "    text = r.read().decode('utf-8')\n",
    "    js = json.loads(text)\n",
    "    last_page = js['pagination']['last_visible_page']\n",
    "    return last_page\n",
    "\n",
    "\n",
    "def get_all_pages(page):\n",
    "    pages = []\n",
    "    max_pages = get_num_pages('https://api.jikan.moe/v4/{}?page={:.2f}&sfw=true'.format(page,0))\n",
    "    for i in tqdm(range(max_pages)):\n",
    "        r = urllib.request.urlopen('https://api.jikan.moe/v4/{}?page={:.2f}&sfw=true'.format(page,i))\n",
    "        text = r.read().decode('utf-8')\n",
    "        js = json.loads(text)\n",
    "        keys = js['data']\n",
    "        for k in keys:\n",
    "            pages.append(k)\n",
    "        sleep(0.75) #The API only allows 3 requests per second, so we have to make sure we don't make more than three requests/sec\n",
    "    return pages"
   ]
  },
  {
   "cell_type": "markdown",
   "metadata": {},
   "source": [
    "Now, we extract all anime pages, and save them as text files locally, so they can be re-used"
   ]
  },
  {
   "cell_type": "code",
   "execution_count": 4,
   "metadata": {},
   "outputs": [
    {
     "name": "stderr",
     "output_type": "stream",
     "text": [
      "100%|██████████| 975/975 [20:50<00:00,  1.28s/it]\n"
     ]
    }
   ],
   "source": [
    "all_animes = get_all_pages('anime')\n",
    "\n",
    "for anime in all_animes:\n",
    "    file_name = \"{}.txt\".format(anime['mal_id'])\n",
    "    write_file = open(\"data/animes/\"+file_name, \"w\")\n",
    "    write_file.write(json.dumps(anime))\n",
    "    write_file.close()"
   ]
  },
  {
   "cell_type": "code",
   "execution_count": 5,
   "metadata": {},
   "outputs": [
    {
     "name": "stdout",
     "output_type": "stream",
     "text": [
      "8249\n",
      "4344\n",
      "4325\n"
     ]
    }
   ],
   "source": [
    "all_anime_tv = [x for x in all_animes if x['type'] == 'TV']\n",
    "print(len(all_anime_tv))\n",
    "all_anime_tv = [x for x in all_anime_tv if x['score']]\n",
    "print(len(all_anime_tv))\n",
    "all_anime_tv = [x for x in all_anime_tv if x['synopsis']]\n",
    "print(len(all_anime_tv))"
   ]
  },
  {
   "cell_type": "code",
   "execution_count": 6,
   "metadata": {},
   "outputs": [
    {
     "name": "stdout",
     "output_type": "stream",
     "text": [
      "Graph with 4304 nodes and 0 edges\n"
     ]
    }
   ],
   "source": [
    "anime_graph = nx.Graph()\n",
    "for anime in all_anime_tv:\n",
    "    anime_graph.add_node(anime['mal_id'])\n",
    "print(anime_graph)"
   ]
  },
  {
   "cell_type": "code",
   "execution_count": 7,
   "metadata": {},
   "outputs": [
    {
     "name": "stderr",
     "output_type": "stream",
     "text": [
      "100%|██████████| 4304/4304 [1:26:41<00:00,  1.21s/it]"
     ]
    },
    {
     "name": "stdout",
     "output_type": "stream",
     "text": [
      "Timeouts: 23\n",
      "Too many requests responses: 0\n"
     ]
    },
    {
     "name": "stderr",
     "output_type": "stream",
     "text": [
      "\n"
     ]
    }
   ],
   "source": [
    "import time\n",
    "import requests\n",
    "from tqdm import tqdm\n",
    "anime_edges = []\n",
    "error_codes = []\n",
    "exceptions = []\n",
    "for id in tqdm(anime_graph.nodes()):\n",
    "#for id in anime_graph.nodes():\n",
    "    try:\n",
    "        r = requests.get('https://api.jikan.moe/v4/anime/{}/recommendations'.format(id),timeout=10)  \n",
    "    except Exception as e:\n",
    "        exceptions.append(e)\n",
    "    \n",
    "    if r.status_code == 200:\n",
    "        #text = r.read().decode('utf-8')\n",
    "        js = r.json()# = json.loads(r)\n",
    "        recs = js['data']\n",
    "        for rec in recs:\n",
    "            anime_edges.append((id,rec['entry']['mal_id'],rec['votes']))\n",
    "        time.sleep(1)\n",
    "    else:\n",
    "        error_codes.append(r.status_code)\n",
    "print(\"Timeouts:\",len(exceptions))\n",
    "print(\"Too many requests responses:\",len(error_codes))"
   ]
  },
  {
   "cell_type": "code",
   "execution_count": 8,
   "metadata": {},
   "outputs": [
    {
     "name": "stdout",
     "output_type": "stream",
     "text": [
      "75400\n",
      "67550\n",
      "Graph with 4304 nodes and 33996 edges\n"
     ]
    }
   ],
   "source": [
    "print(len(anime_edges))\n",
    "anime_nodes = anime_graph.nodes()\n",
    "anime_edges_filtered = [x for x in anime_edges if x[0] in anime_nodes and x[1] in anime_nodes]\n",
    "print(len(anime_edges_filtered))\n",
    "anime_graph.add_weighted_edges_from(anime_edges_filtered)\n",
    "print(anime_graph)"
   ]
  },
  {
   "cell_type": "code",
   "execution_count": 12,
   "metadata": {},
   "outputs": [
    {
     "name": "stdout",
     "output_type": "stream",
     "text": [
      "Graph with 4304 nodes and 33996 edges\n"
     ]
    }
   ],
   "source": [
    "print(anime_graph)\n",
    "nx.write_weighted_edgelist(anime_graph,\"data/edgeanimelist.txt\")"
   ]
  },
  {
   "cell_type": "code",
   "execution_count": 21,
   "metadata": {},
   "outputs": [
    {
     "name": "stdout",
     "output_type": "stream",
     "text": [
      "Graph with 3493 nodes and 33996 edges\n"
     ]
    }
   ],
   "source": [
    "g = nx.read_weighted_edgelist(\"data/edgeanimelist.txt\")\n",
    "print(g)"
   ]
  },
  {
   "cell_type": "code",
   "execution_count": 22,
   "metadata": {},
   "outputs": [
    {
     "name": "stdout",
     "output_type": "stream",
     "text": [
      "Graph with 3493 nodes and 33996 edges\n"
     ]
    }
   ],
   "source": [
    "for anime in all_anime_tv:\n",
    "    if not g.nodes(anime['mal_id']):\n",
    "        g.add_node(anime['mal_id'])\n",
    "print(g)"
   ]
  }
 ],
 "metadata": {
  "kernelspec": {
   "display_name": "Python 3.9.2 64-bit",
   "language": "python",
   "name": "python3"
  },
  "language_info": {
   "codemirror_mode": {
    "name": "ipython",
    "version": 3
   },
   "file_extension": ".py",
   "mimetype": "text/x-python",
   "name": "python",
   "nbconvert_exporter": "python",
   "pygments_lexer": "ipython3",
   "version": "3.9.2"
  },
  "orig_nbformat": 4,
  "vscode": {
   "interpreter": {
    "hash": "81794d4967e6c3204c66dcd87b604927b115b27c00565d3d43f05ba2f3a2cb0d"
   }
  }
 },
 "nbformat": 4,
 "nbformat_minor": 2
}
